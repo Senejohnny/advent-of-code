{
 "cells": [
  {
   "cell_type": "code",
   "execution_count": 335,
   "metadata": {},
   "outputs": [],
   "source": [
    "with open('input_day3.txt') as file:\n",
    "    input = [_.split(',') for _ in file.read().splitlines()]"
   ]
  },
  {
   "cell_type": "code",
   "execution_count": 336,
   "metadata": {},
   "outputs": [],
   "source": [
    "test_input_1 = ([['R8','U5', 'L5', 'D3'], ['U7','R6','D4','L4']], 6)\n",
    "test_input_2 = ([['R75','D30','R83','U83','L12','D49','R71','U7','L72'], ['U62','R66','U55','R34','D71','R55','D58','R83']], 159)\n",
    "test_input_3 = ([['R98','U47','R26','D63','R33','U87','L62','D20','R33','U53','R51'], ['U98','R91','D20','R16','D67','R40','U7','R15','U6','R7']], 135)"
   ]
  },
  {
   "cell_type": "markdown",
   "metadata": {},
   "source": [
    "# Reusable Scripts"
   ]
  },
  {
   "cell_type": "code",
   "execution_count": 337,
   "metadata": {},
   "outputs": [],
   "source": [
    "move = {\n",
    "    'D': lambda x, y, z: [(x, y - _) for _ in range(1, z+1)],\n",
    "    'U': lambda x, y, z: [(x, y + _) for _ in range(1, z+1)],\n",
    "    'L': lambda x, y, z: [(x - _, y) for _ in range(1, z+1)],\n",
    "    'R': lambda x, y, z: [(x + _, y) for _ in range(1, z+1)],\n",
    "} \n",
    "def get_coordinates(insts:str):\n",
    "    x, y = 0, 0\n",
    "    coords = [(x, y)]\n",
    "    for inst in insts:\n",
    "        dirc, step = re.findall(r'(\\w+?)(\\d+)', inst)[0]\n",
    "        coords.extend(move[dirc](x, y, int(step)))\n",
    "        x, y = coords[-1]\n",
    "    return coords\n",
    "\n",
    "def find_cross_points(input):\n",
    "    wire_1 = get_coordinates(input[0])\n",
    "    wire_2 = get_coordinates(input[1])\n",
    "    crosses =  set(wire_1).intersection(set(wire_2)) - {(0, 0)}\n",
    "    return wire_1, wire_2, crosses"
   ]
  },
  {
   "cell_type": "markdown",
   "metadata": {},
   "source": [
    "# Part 1"
   ]
  },
  {
   "cell_type": "code",
   "execution_count": 338,
   "metadata": {},
   "outputs": [
    {
     "name": "stdout",
     "output_type": "stream",
     "text": [
      "CPU times: user 8 µs, sys: 1e+03 ns, total: 9 µs\n",
      "Wall time: 12.9 µs\n"
     ]
    }
   ],
   "source": [
    "%%time\n",
    "def min_manhatan_dist(crosses): \n",
    "    return min([abs(_[0])+abs(_[1]) for _ in crosses])\n",
    "\n",
    "def solution_part_1(input):\n",
    "    _, _, crosses = find_cross_points(input)\n",
    "    return min_manhatan_dist(crosses)"
   ]
  },
  {
   "cell_type": "code",
   "execution_count": 339,
   "metadata": {},
   "outputs": [
    {
     "name": "stdout",
     "output_type": "stream",
     "text": [
      "CPU times: user 90.6 ms, sys: 25.4 ms, total: 116 ms\n",
      "Wall time: 116 ms\n"
     ]
    },
    {
     "data": {
      "text/plain": [
       "1064"
      ]
     },
     "execution_count": 339,
     "metadata": {},
     "output_type": "execute_result"
    }
   ],
   "source": [
    "%%time\n",
    "solution_part_1(input)"
   ]
  },
  {
   "cell_type": "code",
   "execution_count": 340,
   "metadata": {},
   "outputs": [
    {
     "name": "stdout",
     "output_type": "stream",
     "text": [
      "6\n",
      "159\n",
      "135\n"
     ]
    }
   ],
   "source": [
    "print(solution_part_1(test_input_1[0]))\n",
    "print(solution_part_1(test_input_2[0]))\n",
    "print(solution_part_1(test_input_3[0]))"
   ]
  },
  {
   "cell_type": "markdown",
   "metadata": {},
   "source": [
    "# Part 2"
   ]
  },
  {
   "cell_type": "code",
   "execution_count": 341,
   "metadata": {},
   "outputs": [
    {
     "name": "stdout",
     "output_type": "stream",
     "text": [
      "CPU times: user 8 µs, sys: 12 µs, total: 20 µs\n",
      "Wall time: 25.3 µs\n"
     ]
    }
   ],
   "source": [
    "%%time\n",
    "def min_length(wire_1, wire_2, crosses):\n",
    "    steps = []\n",
    "    for cross in crosses:\n",
    "        ind_cross_w1 = wire_1.index(cross)\n",
    "        ind_cross_w2 = wire_2.index(cross)\n",
    "        steps.append(len(wire_1[0:ind_cross_w1]) + len(wire_2[0:ind_cross_w2]))\n",
    "    return min(steps)"
   ]
  },
  {
   "cell_type": "code",
   "execution_count": 342,
   "metadata": {},
   "outputs": [
    {
     "name": "stdout",
     "output_type": "stream",
     "text": [
      "CPU times: user 349 ms, sys: 21.5 ms, total: 370 ms\n",
      "Wall time: 377 ms\n"
     ]
    },
    {
     "data": {
      "text/plain": [
       "25676"
      ]
     },
     "execution_count": 342,
     "metadata": {},
     "output_type": "execute_result"
    }
   ],
   "source": [
    "%%time\n",
    "def solution_part_2(input):\n",
    "    wire_1, wire_2, crosses = find_cross_points(input)\n",
    "    return min_length(wire_1, wire_2, crosses)\n",
    "\n",
    "solution_part_2(input)"
   ]
  },
  {
   "cell_type": "markdown",
   "metadata": {},
   "source": [
    "# Appendix: Regex Snippet"
   ]
  },
  {
   "cell_type": "code",
   "execution_count": 125,
   "metadata": {},
   "outputs": [
    {
     "data": {
      "text/plain": [
       "('L', '62')"
      ]
     },
     "execution_count": 125,
     "metadata": {},
     "output_type": "execute_result"
    }
   ],
   "source": [
    "import re\n",
    "# Using re.compile() + re.match() + re.groups() \n",
    "# Splitting text and number in string  \n",
    "test_string = 'L62'\n",
    "pattern = re.compile(\"([a-zA-Z]+)([0-9]+)\") \n",
    "res = pattern.match(test_string).groups() \n",
    "res"
   ]
  },
  {
   "cell_type": "code",
   "execution_count": 126,
   "metadata": {},
   "outputs": [
    {
     "data": {
      "text/plain": [
       "('L', '62')"
      ]
     },
     "execution_count": 126,
     "metadata": {},
     "output_type": "execute_result"
    }
   ],
   "source": [
    "#  Using re.findall() \n",
    "# Splitting text and number in string  \n",
    "test_string = 'L62'\n",
    "res = re.findall(r'(\\w+?)(\\d+)', test_string)[0]\n",
    "res"
   ]
  },
  {
   "cell_type": "code",
   "execution_count": null,
   "metadata": {},
   "outputs": [],
   "source": []
  }
 ],
 "metadata": {
  "kernelspec": {
   "display_name": "Python 3",
   "language": "python",
   "name": "python3"
  },
  "language_info": {
   "codemirror_mode": {
    "name": "ipython",
    "version": 3
   },
   "file_extension": ".py",
   "mimetype": "text/x-python",
   "name": "python",
   "nbconvert_exporter": "python",
   "pygments_lexer": "ipython3",
   "version": "3.9.1"
  }
 },
 "nbformat": 4,
 "nbformat_minor": 4
}
