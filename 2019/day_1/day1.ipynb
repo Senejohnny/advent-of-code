{
 "cells": [
  {
   "cell_type": "markdown",
   "metadata": {},
   "source": [
    "# --- Day 1: The Tyranny of the Rocket Equation ---"
   ]
  },
  {
   "cell_type": "code",
   "execution_count": 2,
   "metadata": {},
   "outputs": [],
   "source": [
    "import math\n",
    "# class RocketEquation:\n",
    "#     pass\n",
    "with open('input_day1.txt') as file:\n",
    "    modules_masses = [x.strip() for x in file.read().splitlines()]"
   ]
  },
  {
   "cell_type": "markdown",
   "metadata": {},
   "source": [
    "# Part 1"
   ]
  },
  {
   "cell_type": "code",
   "execution_count": 3,
   "metadata": {},
   "outputs": [
    {
     "data": {
      "text/plain": [
       "3231941"
      ]
     },
     "execution_count": 3,
     "metadata": {},
     "output_type": "execute_result"
    }
   ],
   "source": [
    "sum([math.floor(int(mass) / 3 - 2) for mass in modules_masses])"
   ]
  },
  {
   "cell_type": "markdown",
   "metadata": {},
   "source": [
    "# Function recursion with if"
   ]
  },
  {
   "cell_type": "code",
   "execution_count": 47,
   "metadata": {},
   "outputs": [
    {
     "name": "stdout",
     "output_type": "stream",
     "text": [
      "93.1 ns ± 0.744 ns per loop (mean ± std. dev. of 7 runs, 10000000 loops each)\n"
     ]
    }
   ],
   "source": [
    "%%timeit\n",
    "def calculate_fule(mass, _sum=0):\n",
    "    fule = mass // 3 - 2 \n",
    "    if fule > 0:\n",
    "        _sum += fule\n",
    "        return calculate_fule(fule, _sum)\n",
    "    else:\n",
    "        return _sum\n",
    "    "
   ]
  },
  {
   "cell_type": "code",
   "execution_count": 48,
   "metadata": {},
   "outputs": [
    {
     "name": "stdout",
     "output_type": "stream",
     "text": [
      "220 µs ± 1.61 µs per loop (mean ± std. dev. of 7 runs, 1000 loops each)\n"
     ]
    }
   ],
   "source": [
    "%%timeit\n",
    "sum([calculate_fule(int(mass)) for mass in modules_masses])"
   ]
  },
  {
   "cell_type": "markdown",
   "metadata": {},
   "source": [
    "# While Loop with if"
   ]
  },
  {
   "cell_type": "code",
   "execution_count": 49,
   "metadata": {},
   "outputs": [
    {
     "name": "stdout",
     "output_type": "stream",
     "text": [
      "61.4 ns ± 0.26 ns per loop (mean ± std. dev. of 7 runs, 10000000 loops each)\n"
     ]
    }
   ],
   "source": [
    "%%timeit\n",
    "def calculate_fule3(fule):\n",
    "    _sum = 0\n",
    "    while True:\n",
    "        fule = fule // 3 - 2\n",
    "        if fule > 0:\n",
    "            _sum += fule\n",
    "        else:\n",
    "            return _sum"
   ]
  },
  {
   "cell_type": "code",
   "execution_count": 50,
   "metadata": {},
   "outputs": [
    {
     "name": "stdout",
     "output_type": "stream",
     "text": [
      "139 µs ± 577 ns per loop (mean ± std. dev. of 7 runs, 10000 loops each)\n"
     ]
    }
   ],
   "source": [
    "%%timeit\n",
    "sum([calculate_fule3(int(mass)) for mass in modules_masses])"
   ]
  },
  {
   "cell_type": "code",
   "execution_count": 2,
   "metadata": {},
   "outputs": [],
   "source": [
    "data = {'test_does_not_trigger_error_due_to_insufficient_count': (\n",
    "        {'COOLDOWN_PERIOD': 86400, 'SEQUENTIAL_TRIGGERS': 2},\n",
    "        {'TRIGGER_COUNT': 0, 'LAST_TRIGGER': 2},\n",
    "        72,\n",
    "        {'response': False, 'metric_trigger': {'TRIGGER_COUNT': 1, 'LAST_TRIGGER': 72}}\n",
    "    ),\n",
    "}"
   ]
  },
  {
   "cell_type": "code",
   "execution_count": 11,
   "metadata": {},
   "outputs": [
    {
     "data": {
      "text/plain": [
       "dict_values([({'COOLDOWN_PERIOD': 86400, 'SEQUENTIAL_TRIGGERS': 2}, {'TRIGGER_COUNT': 0, 'LAST_TRIGGER': 2}, 72, {'response': False, 'metric_trigger': {'TRIGGER_COUNT': 1, 'LAST_TRIGGER': 72}})])"
      ]
     },
     "execution_count": 11,
     "metadata": {},
     "output_type": "execute_result"
    }
   ],
   "source": [
    "data.values()"
   ]
  },
  {
   "cell_type": "code",
   "execution_count": null,
   "metadata": {},
   "outputs": [],
   "source": []
  }
 ],
 "metadata": {
  "kernelspec": {
   "display_name": "Python 3",
   "language": "python",
   "name": "python3"
  },
  "language_info": {
   "codemirror_mode": {
    "name": "ipython",
    "version": 3
   },
   "file_extension": ".py",
   "mimetype": "text/x-python",
   "name": "python",
   "nbconvert_exporter": "python",
   "pygments_lexer": "ipython3",
   "version": "3.9.1"
  }
 },
 "nbformat": 4,
 "nbformat_minor": 4
}
