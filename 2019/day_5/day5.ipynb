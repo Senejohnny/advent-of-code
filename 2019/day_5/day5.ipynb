{
 "cells": [
  {
   "cell_type": "markdown",
   "metadata": {},
   "source": [
    "#  Sunny with a Chance of Asteroids"
   ]
  },
  {
   "cell_type": "code",
   "execution_count": 41,
   "metadata": {},
   "outputs": [],
   "source": [
    "with open('input_day5.txt') as file:\n",
    "    memory =[int(_) for _ in file.read().split(',')]"
   ]
  },
  {
   "cell_type": "code",
   "execution_count": 42,
   "metadata": {},
   "outputs": [],
   "source": [
    "mode = {\n",
    "        '0' : lambda x, i: x[i],  # position mode\n",
    "        '1' : lambda x, i: i     # immediate mode\n",
    "}"
   ]
  },
  {
   "cell_type": "markdown",
   "metadata": {},
   "source": [
    "# Part 1"
   ]
  },
  {
   "cell_type": "code",
   "execution_count": 43,
   "metadata": {},
   "outputs": [],
   "source": [
    "def diagnostic_code(memory, _input):\n",
    "    mem = memory.copy()\n",
    "    output = []\n",
    "    i = 0\n",
    "    while True:\n",
    "        inst = str(mem[i]).zfill(5)\n",
    "        A, B, C, _, opcode = inst\n",
    "        if opcode == '9':\n",
    "            return output\n",
    "        elif opcode == '1':\n",
    "            mem[mode[A](mem, i + 3)] = mem[mode[C](mem, i + 1)] + mem[mode[B](mem, i + 2)]\n",
    "            i += 4\n",
    "        elif opcode == '2':\n",
    "            mem[mode[A](mem, i + 3)] = mem[mode[C](mem, i + 1)] * mem[mode[B](mem, i + 2)]\n",
    "            i += 4\n",
    "        elif opcode == '3':\n",
    "            mem[mode[C](mem, i + 1)] = _input\n",
    "            i += 2\n",
    "        elif opcode == '4':\n",
    "            output.append(mem[mode[C](mem, i + 1)])\n",
    "            i += 2\n",
    "        else:\n",
    "            raise IndexError(f'Index {i} unacceptable')\n",
    " \n",
    "    "
   ]
  },
  {
   "cell_type": "code",
   "execution_count": 44,
   "metadata": {},
   "outputs": [
    {
     "data": {
      "text/plain": [
       "'00003'"
      ]
     },
     "execution_count": 44,
     "metadata": {},
     "output_type": "execute_result"
    }
   ],
   "source": [
    "# diagnostic_code(memory, 1)\n",
    "str(memory[0]).zfill(5)"
   ]
  },
  {
   "cell_type": "markdown",
   "metadata": {},
   "source": [
    "# Part 2"
   ]
  },
  {
   "cell_type": "code",
   "execution_count": 51,
   "metadata": {},
   "outputs": [],
   "source": [
    "def diagnostic_code_2(memory, _input):\n",
    "    mem = memory.copy()\n",
    "    output = []\n",
    "    i = 0\n",
    "    while True:\n",
    "        inst = str(mem[i]).zfill(5)\n",
    "        A, B, C, _, opcode = inst\n",
    "        if opcode == '9':\n",
    "            return output\n",
    "        elif opcode == '1':\n",
    "            mem[mode[A](mem, i + 3)] = mem[mode[C](mem, i + 1)] + mem[mode[B](mem, i + 2)]\n",
    "            i += 4\n",
    "        elif opcode == '2':\n",
    "            mem[mode[A](mem, i + 3)] = mem[mode[C](mem, i + 1)] * mem[mode[B](mem, i + 2)]\n",
    "            i += 4\n",
    "        elif opcode == '3':\n",
    "            mem[mode[C](mem, i + 1)] = _input\n",
    "            i += 2\n",
    "        elif opcode == '4':\n",
    "            output.append(mem[mode[C](mem, i + 1)])\n",
    "            i += 2\n",
    "        elif opcode == '5':\n",
    "            if mem[mode[C](mem, i + 1)]:\n",
    "                i =  mem[mode[B](mem, i + 2)]\n",
    "            else:\n",
    "                i += 3\n",
    "        elif opcode == '6':\n",
    "            if not mem[mode[C](mem, i + 1)]:\n",
    "                i =  mem[mode[B](mem, i + 2)]\n",
    "            else:\n",
    "                i += 3\n",
    "        elif opcode == '7':\n",
    "            if mem[mode[C](mem, i + 1)] < mem[mode[B](mem, i + 2)]:\n",
    "                mem[mode[A](mem, i + 3)] = 1\n",
    "            else:\n",
    "                mem[mode[A](mem, i + 3)] =  0\n",
    "            i += 4\n",
    "        elif opcode == '8':\n",
    "            if mem[mode[C](mem, i + 1)] == mem[mode[B](mem, i + 2)]:\n",
    "                mem[mode[A](mem, i + 3)] = 1\n",
    "            else:\n",
    "                mem[mode[A](mem, i + 3)] =  0\n",
    "            i += 4\n",
    "        else:\n",
    "            raise IndexError(f'Index {i} unacceptable')"
   ]
  },
  {
   "cell_type": "code",
   "execution_count": 56,
   "metadata": {},
   "outputs": [
    {
     "data": {
      "text/plain": [
       "9168267"
      ]
     },
     "execution_count": 56,
     "metadata": {},
     "output_type": "execute_result"
    }
   ],
   "source": [
    "diagnostic_code_2(memory, 5)[-1]"
   ]
  },
  {
   "cell_type": "code",
   "execution_count": null,
   "metadata": {},
   "outputs": [],
   "source": []
  },
  {
   "cell_type": "code",
   "execution_count": null,
   "metadata": {},
   "outputs": [],
   "source": []
  }
 ],
 "metadata": {
  "kernelspec": {
   "display_name": "Python 3",
   "language": "python",
   "name": "python3"
  },
  "language_info": {
   "codemirror_mode": {
    "name": "ipython",
    "version": 3
   },
   "file_extension": ".py",
   "mimetype": "text/x-python",
   "name": "python",
   "nbconvert_exporter": "python",
   "pygments_lexer": "ipython3",
   "version": "3.9.1"
  }
 },
 "nbformat": 4,
 "nbformat_minor": 4
}
