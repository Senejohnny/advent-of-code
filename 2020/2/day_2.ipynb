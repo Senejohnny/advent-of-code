{
 "cells": [
  {
   "cell_type": "markdown",
   "metadata": {},
   "source": [
    "--- Day 2: Password Philosophy ---\n",
    "\n",
    "Your flight departs in a few days from the coastal airport; the easiest way down to the coast from here is via toboggan.\n",
    "\n",
    "The shopkeeper at the North Pole Toboggan Rental Shop is having a bad day. \"Something's wrong with our computers; we can't log in!\" You ask if you can take a look.\n",
    "\n",
    "Their password database seems to be a little corrupted: some of the passwords wouldn't have been allowed by the Official Toboggan Corporate Policy that was in effect when they were chosen.\n",
    "\n",
    "To try to debug the problem, they have created a list (your puzzle input) of passwords (according to the corrupted database) and the corporate policy when that password was set.\n",
    "\n",
    "For example, suppose you have the following list:\n",
    "\n",
    "1-3 a: abcde\n",
    "1-3 b: cdefg\n",
    "2-9 c: ccccccccc\n",
    "Each line gives the password policy and then the password. The password policy indicates the lowest and highest number of times a given letter must appear for the password to be valid. For example, 1-3 a means that the password must contain a at least 1 time and at most 3 times.\n",
    "\n",
    "In the above example, 2 passwords are valid. The middle password, cdefg, is not; it contains no instances of b, but needs at least 1. The first and third passwords are valid: they contain one a or nine c, both within the limits of their respective policies.\n",
    "\n",
    "How many passwords are valid according to their policies?"
   ]
  },
  {
   "cell_type": "code",
   "execution_count": 175,
   "metadata": {},
   "outputs": [],
   "source": [
    "class Passes:\n",
    "    \n",
    "    def __init__(self):\n",
    "        \n",
    "        from collections import namedtuple\n",
    "        Pass = namedtuple('PassPolicy' , 'min_rep max_rep policy_char password')\n",
    "        def data_preparation(line:str) -> tuple:\n",
    "            policy, password = map(str.strip, line.split(':'))\n",
    "            policy_con, policy_char = policy.split(' ')\n",
    "            min_rep, max_rep = map(int, policy_con.split('-'))\n",
    "            return min_rep, max_rep, policy_char, password\n",
    "        \n",
    "        with open ('input_day2.txt', 'r') as file:\n",
    "            passes = []\n",
    "            for line in file:\n",
    "                min_rep, max_rep, policy_char, password = data_preparation(line)\n",
    "                passes.append(Pass(password=password, policy_char=policy_char, min_rep=min_rep, max_rep=max_rep))\n",
    "        self.passes = passes\n",
    "        \n",
    "    def __len__(self):\n",
    "        return len(self.passes)\n",
    "    \n",
    "    def __getitem__(self, position):\n",
    "        return self.passes[position]\n",
    "    \n",
    "    def isvalid_1(self, index):\n",
    "        from collections import Counter\n",
    "        char_repetition = Counter(self.passes[index].password).get(self.passes[index].policy_char, 0)\n",
    "        if (char_repetition >= self.passes[index].min_rep) & (char_repetition <= self.passes[index].max_rep):\n",
    "            return True\n",
    "        else:\n",
    "            return False\n",
    "        \n",
    "    def isvalid_2(self, index):\n",
    "\n",
    "        char_repetition = Counter(self.passes[index].password).get(self.passes[index].policy_char, 0)\n",
    "        _min = self.passes[index].min_rep\n",
    "        _max = self.passes[index].max_rep\n",
    "        min_ind = self.passes[index].password[_min - 1]\n",
    "        max_ind = self.passes[index].password[_max - 1]\n",
    "        if (min_ind == self.passes[index].policy_char) ^ (max_ind == self.passes[index].policy_char):\n",
    "            return True\n",
    "        else:\n",
    "            return False\n",
    "        \n",
    "    "
   ]
  },
  {
   "cell_type": "code",
   "execution_count": 176,
   "metadata": {},
   "outputs": [
    {
     "data": {
      "text/plain": [
       "398"
      ]
     },
     "execution_count": 176,
     "metadata": {},
     "output_type": "execute_result"
    }
   ],
   "source": [
    "passes = Passes()\n",
    "place_holder = []\n",
    "for i in range(len(passes)) :\n",
    "    place_holder.append(passes.isvalid_1(i))\n",
    "sum(place_holder)"
   ]
  },
  {
   "cell_type": "markdown",
   "metadata": {},
   "source": [
    "--- Part Two ---\n",
    "\n",
    "While it appears you validated the passwords correctly, they don't seem to be what the Official Toboggan Corporate Authentication System is expecting.\n",
    "\n",
    "The shopkeeper suddenly realizes that he just accidentally explained the password policy rules from his old job at the sled rental place down the street! The Official Toboggan Corporate Policy actually works a little differently.\n",
    "\n",
    "Each policy actually describes two positions in the password, where 1 means the first character, 2 means the second character, and so on. (Be careful; Toboggan Corporate Policies have no concept of \"index zero\"!) Exactly one of these positions must contain the given letter. Other occurrences of the letter are irrelevant for the purposes of policy enforcement.\n",
    "\n",
    "Given the same example list from above:\n",
    "\n",
    "1-3 a: abcde is valid: position 1 contains a and position 3 does not.\n",
    "1-3 b: cdefg is invalid: neither position 1 nor position 3 contains b.\n",
    "2-9 c: ccccccccc is invalid: both position 2 and position 9 contain c.\n",
    "How many passwords are valid according to the new interpretation of the policies?\n",
    "\n"
   ]
  },
  {
   "cell_type": "code",
   "execution_count": 177,
   "metadata": {},
   "outputs": [
    {
     "data": {
      "text/plain": [
       "562"
      ]
     },
     "execution_count": 177,
     "metadata": {},
     "output_type": "execute_result"
    }
   ],
   "source": [
    "passes = Passes()\n",
    "place_holder = []\n",
    "for i in range(len(passes)):\n",
    "    place_holder.append(passes.isvalid_2(i))\n",
    "sum(place_holder)"
   ]
  },
  {
   "cell_type": "code",
   "execution_count": 179,
   "metadata": {},
   "outputs": [
    {
     "name": "stdout",
     "output_type": "stream",
     "text": [
      "PassPolicy(min_rep=3, max_rep=11, policy_char='q', password='qbqsqqzqqxkmbqx')\n"
     ]
    },
    {
     "data": {
      "text/plain": [
       "True"
      ]
     },
     "execution_count": 179,
     "metadata": {},
     "output_type": "execute_result"
    }
   ],
   "source": [
    "index = 4\n",
    "print(passes[index])\n",
    "passes.isvalid_2(index)"
   ]
  },
  {
   "cell_type": "code",
   "execution_count": 173,
   "metadata": {},
   "outputs": [
    {
     "data": {
      "text/plain": [
       "True"
      ]
     },
     "execution_count": 173,
     "metadata": {},
     "output_type": "execute_result"
    }
   ],
   "source": []
  },
  {
   "cell_type": "code",
   "execution_count": null,
   "metadata": {},
   "outputs": [],
   "source": []
  }
 ],
 "metadata": {
  "kernelspec": {
   "display_name": "Python 3",
   "language": "python",
   "name": "python3"
  },
  "language_info": {
   "codemirror_mode": {
    "name": "ipython",
    "version": 3
   },
   "file_extension": ".py",
   "mimetype": "text/x-python",
   "name": "python",
   "nbconvert_exporter": "python",
   "pygments_lexer": "ipython3",
   "version": "3.9.0"
  }
 },
 "nbformat": 4,
 "nbformat_minor": 4
}
