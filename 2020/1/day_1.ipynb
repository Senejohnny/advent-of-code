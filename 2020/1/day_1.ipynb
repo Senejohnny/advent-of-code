{
 "cells": [
  {
   "cell_type": "markdown",
   "metadata": {},
   "source": [
    "--- Day 1: Report Repair ---\n",
    "\n",
    "After saving Christmas five years in a row, you've decided to take a vacation at a nice resort on a tropical island. Surely, Christmas will go on without you.\n",
    "\n",
    "The tropical island has its own currency and is entirely cash-only. The gold coins used there have a little picture of a starfish; the locals just call them stars. None of the currency exchanges seem to have heard of them, but somehow, you'll need to find fifty of these coins by the time you arrive so you can pay the deposit on your room.\n",
    "\n",
    "To save your vacation, you need to get all fifty stars by December 25th.\n",
    "\n",
    "Collect stars by solving puzzles. Two puzzles will be made available on each day in the Advent calendar; the second puzzle is unlocked when you complete the first. Each puzzle grants one star. Good luck!\n",
    "\n",
    "Before you leave, the Elves in accounting just need you to fix your expense report (your puzzle input); apparently, something isn't quite adding up.\n",
    "\n",
    "Specifically, they need you to find the two entries that sum to 2020 and then multiply those two numbers together.\n",
    "\n",
    "For example, suppose your expense report contained the following:\n",
    "\n",
    "1721\n",
    "979\n",
    "366\n",
    "299\n",
    "675\n",
    "1456\n",
    "In this list, the two entries that sum to 2020 are 1721 and 299. Multiplying them together produces 1721 * 299 = 514579, so the correct answer is 514579.\n",
    "\n",
    "Of course, your expense report is much larger. Find the two entries that sum to 2020; what do you get if you multiply them together?"
   ]
  },
  {
   "cell_type": "markdown",
   "metadata": {},
   "source": [
    "--- Part Two ---\n",
    "\n",
    "The Elves in accounting are thankful for your help; one of them even offers you a starfish coin they had left over from a past vacation. They offer you a second one if you can find three numbers in your expense report that meet the same criteria.\n",
    "\n",
    "Using the above example again, the three entries that sum to 2020 are 979, 366, and 675. Multiplying them together produces the answer, 241861950.\n",
    "\n",
    "In your expense report, what is the product of the three entries that sum to 2020?"
   ]
  },
  {
   "cell_type": "code",
   "execution_count": 26,
   "metadata": {},
   "outputs": [
    {
     "name": "stdout",
     "output_type": "stream",
     "text": [
      "987339\n",
      "259521570\n"
     ]
    }
   ],
   "source": [
    "with open ('input.txt', 'r') as file:\n",
    "#     file = file.read().splitlines()\n",
    "    nums = [int(line.strip()) for line in file if line.strip()]\n",
    "\n",
    "for i in range(len(nums)):\n",
    "    for j in range(i, len(nums)):\n",
    "        if nums[i] + nums[j] == 2020:\n",
    "            print(nums[i] * nums[j])\n",
    "\n",
    "for i in range(len(nums)):\n",
    "    for j in range(i, len(nums)):\n",
    "        for k in range(j, len(nums)):\n",
    "            if nums[i] + nums[j] + nums[k] == 2020:\n",
    "                print(nums[i] * nums[j] * nums[k])"
   ]
  },
  {
   "cell_type": "code",
   "execution_count": 29,
   "metadata": {},
   "outputs": [],
   "source": [
    "class AdventofCode:\n",
    "    \n",
    "    def __init__(self, file_name:str):\n",
    "        with open (file_name, 'r') as file:\n",
    "#     file = file.read().splitlines()\n",
    "            self.nums = [int(line.strip()) for line in file if line.strip()]\n",
    "\n",
    "    def ent_sum_2020(self, num_ent:int, _sum_to:int=2020):\n",
    "        if num_ent == 2:\n",
    "            for i in range(len(self.nums)):\n",
    "                for j in range(i, len(self.nums)):\n",
    "                    if  self.nums[i] + self.nums[j] == _sum_to:\n",
    "                        return self.nums[i] * self.nums[j]\n",
    "        if num_ent == 3:\n",
    "            for i in range(len(nums)):\n",
    "                for j in range(i, len(nums)):\n",
    "                    for k in range(j, len(nums)):\n",
    "                        if nums[i] + nums[j] + nums[k] == _sum_to:\n",
    "                            return nums[i] * nums[j] * nums[k]"
   ]
  },
  {
   "cell_type": "code",
   "execution_count": 32,
   "metadata": {},
   "outputs": [],
   "source": [
    "adc = AdventofCode('input_day1.txt')"
   ]
  },
  {
   "cell_type": "code",
   "execution_count": 38,
   "metadata": {},
   "outputs": [
    {
     "data": {
      "text/plain": [
       "22604452"
      ]
     },
     "execution_count": 38,
     "metadata": {},
     "output_type": "execute_result"
    }
   ],
   "source": [
    "adc.ent_sum_2020(3, 2024)"
   ]
  },
  {
   "cell_type": "code",
   "execution_count": null,
   "metadata": {},
   "outputs": [],
   "source": []
  }
 ],
 "metadata": {
  "kernelspec": {
   "display_name": "Python 3",
   "language": "python",
   "name": "python3"
  },
  "language_info": {
   "codemirror_mode": {
    "name": "ipython",
    "version": 3
   },
   "file_extension": ".py",
   "mimetype": "text/x-python",
   "name": "python",
   "nbconvert_exporter": "python",
   "pygments_lexer": "ipython3",
   "version": "3.9.0"
  }
 },
 "nbformat": 4,
 "nbformat_minor": 4
}
