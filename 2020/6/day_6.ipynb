{
 "cells": [
  {
   "cell_type": "code",
   "execution_count": 3,
   "metadata": {},
   "outputs": [
    {
     "name": "stdout",
     "output_type": "stream",
     "text": [
      "3.9.1\n"
     ]
    }
   ],
   "source": [
    "from platform import python_version\n",
    "\n",
    "print(python_version())"
   ]
  },
  {
   "cell_type": "code",
   "execution_count": 43,
   "metadata": {},
   "outputs": [],
   "source": [
    "class  CustomCustoms:\n",
    "    \n",
    "    \n",
    "    def __init__(self):\n",
    "        with open('input_day6.txt') as file:\n",
    "            lines = [x.strip().split() for x in file.read().split(\"\\n\\n\")]\n",
    "            self.groups_questions = lines\n",
    "    \n",
    "    def __repr__(self):\n",
    "        return f'CustomCustoms(#groups_questions={len(self.groups_questions)})'\n",
    "    \n",
    "    def __len__(self):\n",
    "        return len(self.groups_questions)\n",
    "    \n",
    "    def __getitem__(self, position):\n",
    "        return self.groups_questions[position]\n",
    "    \n",
    "    def sum_groups_count(self):\n",
    "        return sum([len(set(''.join(g))) for g  in self.groups_questions])\n",
    "            \n",
    "            \n",
    "        "
   ]
  },
  {
   "cell_type": "code",
   "execution_count": 44,
   "metadata": {},
   "outputs": [
    {
     "data": {
      "text/plain": [
       "6799"
      ]
     },
     "execution_count": 44,
     "metadata": {},
     "output_type": "execute_result"
    }
   ],
   "source": [
    "cc = CustomCustoms()\n",
    "cc.sum_groups_count()"
   ]
  },
  {
   "cell_type": "code",
   "execution_count": 81,
   "metadata": {},
   "outputs": [
    {
     "data": {
      "text/plain": [
       "24"
      ]
     },
     "execution_count": 81,
     "metadata": {},
     "output_type": "execute_result"
    }
   ],
   "source": [
    "group_questions = cc.groups_questions[1]\n",
    "# print(group_questions)\n",
    "cc._count_group_yes_ans(group_questions)"
   ]
  },
  {
   "cell_type": "code",
   "execution_count": 10,
   "metadata": {},
   "outputs": [
    {
     "data": {
      "text/plain": [
       "3354"
      ]
     },
     "execution_count": 10,
     "metadata": {},
     "output_type": "execute_result"
    }
   ],
   "source": [
    "with open('input_day6.txt') as file:\n",
    "    groups = [x.strip().split() for x in file.read().split(\"\\n\\n\")]\n",
    "    \n",
    "# Day 1 \n",
    "sum([len(set(''.join(group))) for group in groups])\n",
    "\n",
    "# Day 2 \n",
    "sum([len(set.intersection(*[set(_) for _ in group])) for group in groups])\n",
    "\n",
    "from collections import Counter\n",
    "sum([len([v for v in Counter(''.join(group)).values() if v == len(group)]) for group in groups])"
   ]
  },
  {
   "cell_type": "code",
   "execution_count": null,
   "metadata": {},
   "outputs": [],
   "source": []
  }
 ],
 "metadata": {
  "kernelspec": {
   "display_name": "Python 3",
   "language": "python",
   "name": "python3"
  },
  "language_info": {
   "codemirror_mode": {
    "name": "ipython",
    "version": 3
   },
   "file_extension": ".py",
   "mimetype": "text/x-python",
   "name": "python",
   "nbconvert_exporter": "python",
   "pygments_lexer": "ipython3",
   "version": "3.9.1"
  }
 },
 "nbformat": 4,
 "nbformat_minor": 4
}
