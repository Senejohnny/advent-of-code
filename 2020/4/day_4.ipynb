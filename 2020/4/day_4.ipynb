{
 "cells": [
  {
   "cell_type": "markdown",
   "metadata": {},
   "source": [
    "--- Day 4: Passport Processing ---\n",
    "\n",
    "You arrive at the airport only to realize that you grabbed your North Pole Credentials instead of your passport. While these documents are extremely similar, North Pole Credentials aren't issued by a country and therefore aren't actually valid documentation for travel in most of the world.\n",
    "\n",
    "It seems like you're not the only one having problems, though; a very long line has formed for the automatic passport scanners, and the delay could upset your travel itinerary.\n",
    "\n",
    "Due to some questionable network security, you realize you might be able to solve both of these problems at the same time.\n",
    "\n",
    "The automatic passport scanners are slow because they're having trouble detecting which passports have all required fields. The expected fields are as follows:\n",
    "\n",
    "byr (Birth Year)\n",
    "iyr (Issue Year)\n",
    "eyr (Expiration Year)\n",
    "hgt (Height)\n",
    "hcl (Hair Color)\n",
    "ecl (Eye Color)\n",
    "pid (Passport ID)\n",
    "cid (Country ID)\n",
    "Passport data is validated in batch files (your puzzle input). Each passport is represented as a sequence of key:value pairs separated by spaces or newlines. Passports are separated by blank lines.\n",
    "\n",
    "Here is an example batch file containing four passports:\n",
    "\n",
    "ecl:gry pid:860033327 eyr:2020 hcl:#fffffd\n",
    "byr:1937 iyr:2017 cid:147 hgt:183cm\n",
    "\n",
    "iyr:2013 ecl:amb cid:350 eyr:2023 pid:028048884\n",
    "hcl:#cfa07d byr:1929\n",
    "\n",
    "hcl:#ae17e1 iyr:2013\n",
    "eyr:2024\n",
    "ecl:brn pid:760753108 byr:1931\n",
    "hgt:179cm\n",
    "\n",
    "hcl:#cfa07d eyr:2025 pid:166559648\n",
    "iyr:2011 ecl:brn hgt:59in\n",
    "The first passport is valid - all eight fields are present. The second passport is invalid - it is missing hgt (the Height field).\n",
    "\n",
    "The third passport is interesting; the only missing field is cid, so it looks like data from North Pole Credentials, not a passport at all! Surely, nobody would mind if you made the system temporarily ignore missing cid fields. Treat this \"passport\" as valid.\n",
    "\n",
    "The fourth passport is missing two fields, cid and byr. Missing cid is fine, but missing any other field is not, so this passport is invalid.\n",
    "\n",
    "According to the above rules, your improved system would report 2 valid passports.\n",
    "\n",
    "Count the number of valid passports - those that have all required fields. Treat cid as optional. In your batch file, how many passports are valid?"
   ]
  },
  {
   "cell_type": "code",
   "execution_count": 65,
   "metadata": {},
   "outputs": [],
   "source": [
    "def data_preparation(lines):\n",
    "    passport = ''\n",
    "    passports = []\n",
    "    s = 0\n",
    "    for line in lines:\n",
    "        if line != '':\n",
    "            passport += ' ' + line\n",
    "        else:\n",
    "            passport = {_.split(':')[0]:_.split(':')[1] for _ in passport.strip().split(' ')}\n",
    "            passports.append(passport)\n",
    "            passport = ''\n",
    "            s += 1\n",
    "    print(s)\n",
    "            \n",
    "    return passports\n",
    "\n",
    "\n",
    "class PassportProcessing:\n",
    "    \n",
    "    def __init__(self):\n",
    "        with open('input_day4.txt') as file:\n",
    "            lines = file.read().splitlines()\n",
    "#             print(lines)\n",
    "            self.passports = data_preparation(lines)\n",
    "    \n",
    "    def __repr__(self):\n",
    "        return f'PassportProcessing(#passports={len(self.passports)})'\n",
    "    \n",
    "    def __len__(self):\n",
    "        return len(self.passports)\n",
    "    \n",
    "    def __getitem__(self, position):\n",
    "        return self.passports[position]\n",
    "    \n",
    "    def _isvalid_1(self, passport):\n",
    "        passport_keys = passport.keys()\n",
    "        if len(passport_keys) == 8:\n",
    "            return True\n",
    "        elif (len(passport_keys) == 7):\n",
    "            return True if 'cid' not in passport_keys else False\n",
    "        else:\n",
    "            return False\n",
    "    \n",
    "    def count_valid_1(self):\n",
    "        return sum([self._isvalid_1(passport) for passport in self.passports])\n",
    "        \n",
    "    def _isvalid_2(self, passport):\n",
    "        def dispatch_dict(passport, field):\n",
    "            import regex as re\n",
    "            return {'byr': lambda: 1920 <= int(passport['byr']) <= 2002,\n",
    "                    'iyr': lambda: 2010 <=int(passport['iyr']) <= 2020,\n",
    "                    'eyr': lambda: 2020 <= int(passport['eyr']) <= 2030,\n",
    "                    'ecl': lambda: passport['ecl'] in ['amb', 'blu', 'brn','gry','grn','hzl','oth'],\n",
    "                    'hcl': lambda: re.match(r'^\\#[0-9a-f]{6}$', passport['hcl']) is not None,\n",
    "                    'pid': lambda: re.match(r'^\\d{9}$', passport['pid']) is not None,\n",
    "                    'hgt': lambda: 150 <= int(passport['hgt'][:-2]) <= 193 if 'cm' in passport['hgt']\n",
    "                            else (59 <= int(passport['hgt'][:-2]) <= 76 if 'in' in passport['hgt'] else False), \n",
    "                   }.get(field, lambda: None)()\n",
    "        \n",
    "        for field in ['byr' ,'iyr' ,'eyr' ,'hgt' ,'hcl' ,'ecl' ,'pid']:\n",
    "            if dispatch_dict(passport, field) == False:\n",
    "                return False\n",
    "        return True\n",
    "    \n",
    "    def count_valid_2(self):\n",
    "        return sum([self._isvalid_2(passport) for passport in self.passports if self._isvalid_1(passport)])\n",
    "        "
   ]
  },
  {
   "cell_type": "code",
   "execution_count": 68,
   "metadata": {},
   "outputs": [
    {
     "name": "stdout",
     "output_type": "stream",
     "text": [
      "287\n"
     ]
    },
    {
     "data": {
      "text/plain": [
       "232"
      ]
     },
     "execution_count": 68,
     "metadata": {},
     "output_type": "execute_result"
    }
   ],
   "source": [
    "passports = PassportProcessing()\n",
    "passports.count_valid_1()"
   ]
  },
  {
   "cell_type": "code",
   "execution_count": 40,
   "metadata": {},
   "outputs": [
    {
     "data": {
      "text/plain": [
       "True"
      ]
     },
     "execution_count": 40,
     "metadata": {},
     "output_type": "execute_result"
    }
   ],
   "source": [
    "passport = passports[0]\n",
    "dispatch_dict(passport, 'byr')()"
   ]
  },
  {
   "cell_type": "code",
   "execution_count": null,
   "metadata": {},
   "outputs": [],
   "source": []
  }
 ],
 "metadata": {
  "kernelspec": {
   "display_name": "Python 3",
   "language": "python",
   "name": "python3"
  },
  "language_info": {
   "codemirror_mode": {
    "name": "ipython",
    "version": 3
   },
   "file_extension": ".py",
   "mimetype": "text/x-python",
   "name": "python",
   "nbconvert_exporter": "python",
   "pygments_lexer": "ipython3",
   "version": "3.9.1"
  }
 },
 "nbformat": 4,
 "nbformat_minor": 4
}
