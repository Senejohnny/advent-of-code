{
 "cells": [
  {
   "cell_type": "markdown",
   "metadata": {},
   "source": [
    "# Solution with plain dictionary Handy Haversacks"
   ]
  },
  {
   "cell_type": "code",
   "execution_count": 68,
   "metadata": {},
   "outputs": [],
   "source": [
    "class HandyHaversacks:\n",
    "    pass\n",
    "with open('input_day7.txt') as file:\n",
    "    rules = [x.strip() for x in file.read().splitlines()]"
   ]
  },
  {
   "cell_type": "code",
   "execution_count": 45,
   "metadata": {},
   "outputs": [],
   "source": [
    "import re\n",
    "\n",
    "def rules_to_dict(rules):\n",
    "    from collections import defaultdict\n",
    "    _rules = defaultdict(lambda: defaultdict(dict))\n",
    "\n",
    "    for rule in rules:\n",
    "        rule = rule.split(' bags contain')\n",
    "        bag, contains = rule[0], rule[1].split(',') if 'no' not in rule[1] else 0\n",
    "        if contains:\n",
    "            _contains = list(contains) if isinstance(contains, str) else contains\n",
    "            inner_bags = list(map(lambda x: x.strip().split(), _contains))\n",
    "            for info in inner_bags:\n",
    "                inner_bag = info[1] + ' ' + info[2]\n",
    "                _rules[bag][inner_bag] = info[0]\n",
    "        else:\n",
    "            _rules[bag] = 0\n",
    "    return _rules\n",
    "\n",
    "def rules_to_tree(rules):\n",
    "    from collections import defaultdict\n",
    "    tree = defaultdict(lambda: defaultdict(dict))\n",
    "    reversed_tree = defaultdict(set)\n",
    "\n",
    "    for rule in rules:\n",
    "        m = re.match(r\"(.*) bags contain (.*)$\", rule)\n",
    "        if m:\n",
    "            color = m.group(1)\n",
    "            remain = m.group(2)\n",
    "            \n",
    "        for child in re.findall(r\"([\\d]+) (.*?) bag\", remain):\n",
    "            tree[color][child[1]] = int(child[0])\n",
    "            reversed_tree[child[1]].add(color)\n",
    "    return tree, reversed_tree\n"
   ]
  },
  {
   "cell_type": "code",
   "execution_count": 46,
   "metadata": {},
   "outputs": [],
   "source": [
    "bags1 = rules_to_dict(rules)\n",
    "tree, reversed_tree = rules_to_tree(rules)"
   ]
  },
  {
   "cell_type": "code",
   "execution_count": 48,
   "metadata": {},
   "outputs": [
    {
     "data": {
      "text/plain": [
       "155"
      ]
     },
     "execution_count": 48,
     "metadata": {},
     "output_type": "execute_result"
    }
   ],
   "source": [
    "ancestors = set()\n",
    "def search_reversed_tree(bag):\n",
    "    for parent in reversed_tree[bag]:\n",
    "        ancestors.add(parent)\n",
    "        search_reversed_tree(parent)\n",
    "    return ancestors\n",
    "ancestors = search_reversed_tree('shiny gold') \n",
    "len(ancestors)"
   ]
  },
  {
   "cell_type": "code",
   "execution_count": 66,
   "metadata": {},
   "outputs": [
    {
     "data": {
      "text/plain": [
       "54803"
      ]
     },
     "execution_count": 66,
     "metadata": {},
     "output_type": "execute_result"
    }
   ],
   "source": [
    "def sub_bags(bag):\n",
    "    num_bags = 0\n",
    "    for subbag in tree[bag].keys():\n",
    "        num_bags += tree[bag][subbag] * (sub_bags(subbag) + 1) # 1 is to include the current bag collor itself and the recursion to count the inner bags\n",
    "    return num_bags\n",
    "\n",
    "sub_bags('shiny gold')"
   ]
  },
  {
   "cell_type": "markdown",
   "metadata": {},
   "source": [
    "# Ideas\n",
    "I implemented most of part 2 accidentally during part 1.\n",
    "\n",
    "Build a tree representing the parent → child relationships.\n",
    "\n",
    "Question asks for the ancestors, so invert the tree and walk it to find them.\n",
    "\n",
    "Now it wants the descendants. Walk the tree from part 1."
   ]
  },
  {
   "cell_type": "markdown",
   "metadata": {},
   "source": [
    "# https://github.com/sophiebits/adventofcode/blob/main/2020/day07.py"
   ]
  },
  {
   "cell_type": "markdown",
   "metadata": {},
   "source": [
    "# Solution using regex and networkx"
   ]
  },
  {
   "cell_type": "code",
   "execution_count": 50,
   "metadata": {},
   "outputs": [
    {
     "name": "stdout",
     "output_type": "stream",
     "text": [
      "155\n",
      "54803\n"
     ]
    }
   ],
   "source": [
    "import re\n",
    "import networkx as nx\n",
    "with open('input_day7.txt', \"r\") as fp:\n",
    "    data = fp.readlines()\n",
    "\n",
    "\n",
    "G = nx.DiGraph()\n",
    "\n",
    "for line in data:\n",
    "    m = re.match(r\"(.*) bags contain (.*)$\", line)\n",
    "    if m:\n",
    "        color = m.group(1)\n",
    "        remain = m.group(2)\n",
    "\n",
    "        for child in re.findall(r\"([\\d]+) (.*?) bag\", remain):\n",
    "            G.add_edge(color, child[1], count=int(child[0]))\n",
    "\n",
    "\n",
    "def countBagsIn(root):\n",
    "    totalBags = 0\n",
    "    for k, val in G[root].items():\n",
    "        totalBags += val['count'] * countBagsIn(k) + val['count']\n",
    "\n",
    "    return totalBags\n",
    "\n",
    "print(len(nx.ancestors(G, \"shiny gold\")))\n",
    "print(countBagsIn('shiny gold'))"
   ]
  },
  {
   "cell_type": "code",
   "execution_count": 14,
   "metadata": {},
   "outputs": [],
   "source": [
    "line = rules[1]"
   ]
  },
  {
   "cell_type": "code",
   "execution_count": 63,
   "metadata": {},
   "outputs": [],
   "source": [
    "# m = re.match(r\"(.*) bags contain (.*)$\", line)\n",
    "\n",
    "# nx.ancestors?\n",
    "\n",
    "ancestors = nx.ancestors(G, 'shiny gold')\n",
    "# ancestors"
   ]
  },
  {
   "cell_type": "code",
   "execution_count": 48,
   "metadata": {},
   "outputs": [],
   "source": [
    "# G['shiny gold']['dark chartreuse']\n",
    "# nx.draw(G)\n",
    "# nx.ancestors(G, \"shiny gold\")"
   ]
  },
  {
   "cell_type": "code",
   "execution_count": 65,
   "metadata": {},
   "outputs": [
    {
     "data": {
      "text/plain": [
       "['bright aqua', 'light gold', 'shiny gold']"
      ]
     },
     "execution_count": 65,
     "metadata": {},
     "output_type": "execute_result"
    }
   ],
   "source": [
    "nx.shortest_path(G, target='shiny gold', source='bright aqua')"
   ]
  },
  {
   "cell_type": "code",
   "execution_count": 66,
   "metadata": {},
   "outputs": [
    {
     "data": {
      "text/plain": [
       "defaultdict(dict,\n",
       "            {'pale coral': '2',\n",
       "             'mirrored bronze': '4',\n",
       "             'light gold': '1',\n",
       "             'plaid lime': '2'})"
      ]
     },
     "execution_count": 66,
     "metadata": {},
     "output_type": "execute_result"
    }
   ],
   "source": [
    "bags['bright aqua']"
   ]
  },
  {
   "cell_type": "code",
   "execution_count": 111,
   "metadata": {},
   "outputs": [
    {
     "data": {
      "text/plain": [
       "594"
      ]
     },
     "execution_count": 111,
     "metadata": {},
     "output_type": "execute_result"
    }
   ],
   "source": [
    "len(G.nodes)"
   ]
  },
  {
   "cell_type": "code",
   "execution_count": null,
   "metadata": {},
   "outputs": [],
   "source": []
  }
 ],
 "metadata": {
  "kernelspec": {
   "display_name": "Python 3",
   "language": "python",
   "name": "python3"
  },
  "language_info": {
   "codemirror_mode": {
    "name": "ipython",
    "version": 3
   },
   "file_extension": ".py",
   "mimetype": "text/x-python",
   "name": "python",
   "nbconvert_exporter": "python",
   "pygments_lexer": "ipython3",
   "version": "3.9.1"
  }
 },
 "nbformat": 4,
 "nbformat_minor": 4
}
